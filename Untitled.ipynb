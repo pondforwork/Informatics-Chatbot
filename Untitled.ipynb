{
 "cells": [
  {
   "cell_type": "code",
   "execution_count": 1,
   "id": "1c97b557",
   "metadata": {},
   "outputs": [
    {
     "name": "stderr",
     "output_type": "stream",
     "text": [
      "[nltk_data] Downloading package punkt to\n",
      "[nltk_data]     C:\\Users\\Pond\\AppData\\Roaming\\nltk_data...\n",
      "[nltk_data]   Package punkt is already up-to-date!\n",
      "[nltk_data] Downloading package wordnet to\n",
      "[nltk_data]     C:\\Users\\Pond\\AppData\\Roaming\\nltk_data...\n",
      "[nltk_data]   Package wordnet is already up-to-date!\n"
     ]
    },
    {
     "ename": "UnicodeDecodeError",
     "evalue": "'charmap' codec can't decode byte 0x81 in position 2: character maps to <undefined>",
     "output_type": "error",
     "traceback": [
      "\u001b[1;31m---------------------------------------------------------------------------\u001b[0m",
      "\u001b[1;31mUnicodeDecodeError\u001b[0m                        Traceback (most recent call last)",
      "Cell \u001b[1;32mIn[1], line 7\u001b[0m\n\u001b[0;32m      5\u001b[0m \u001b[38;5;28;01mfrom\u001b[39;00m \u001b[38;5;21;01mnltk\u001b[39;00m\u001b[38;5;21;01m.\u001b[39;00m\u001b[38;5;21;01mchat\u001b[39;00m\u001b[38;5;21;01m.\u001b[39;00m\u001b[38;5;21;01mutil\u001b[39;00m \u001b[38;5;28;01mimport\u001b[39;00m Chat, reflections\n\u001b[0;32m      6\u001b[0m \u001b[38;5;28;01mfrom\u001b[39;00m \u001b[38;5;21;01mlextoplus\u001b[39;00m \u001b[38;5;28;01mimport\u001b[39;00m LexToPlus\n\u001b[1;32m----> 7\u001b[0m tokenizer \u001b[38;5;241m=\u001b[39m LexToPlus()\n\u001b[0;32m      8\u001b[0m \u001b[38;5;66;03m# Define pairs of patterns and responses\u001b[39;00m\n\u001b[0;32m      9\u001b[0m pairs \u001b[38;5;241m=\u001b[39m [\n\u001b[0;32m     10\u001b[0m     [\n\u001b[0;32m     11\u001b[0m         \u001b[38;5;124mr\u001b[39m\u001b[38;5;124m\"\u001b[39m\u001b[38;5;124mฉัน ชื่อ (.*)\u001b[39m\u001b[38;5;124m\"\u001b[39m,\n\u001b[1;32m   (...)\u001b[0m\n\u001b[0;32m     34\u001b[0m \n\u001b[0;32m     35\u001b[0m ]\n",
      "File \u001b[1;32m~\\AppData\\Roaming\\Python\\Python311\\site-packages\\lextoplus\\LexToPlus.py:24\u001b[0m, in \u001b[0;36mLexToPlus.__init__\u001b[1;34m(self)\u001b[0m\n\u001b[0;32m     21\u001b[0m         \u001b[38;5;28;01mcontinue\u001b[39;00m\n\u001b[0;32m     23\u001b[0m     \u001b[38;5;28;01mwith\u001b[39;00m \u001b[38;5;28mopen\u001b[39m(full_path \u001b[38;5;241m+\u001b[39m f, \u001b[38;5;124m'\u001b[39m\u001b[38;5;124mr\u001b[39m\u001b[38;5;124m'\u001b[39m) \u001b[38;5;28;01mas\u001b[39;00m fdict:\n\u001b[1;32m---> 24\u001b[0m         dicts\u001b[38;5;241m.\u001b[39mextend(fdict\u001b[38;5;241m.\u001b[39mread()\u001b[38;5;241m.\u001b[39msplitlines())\n\u001b[0;32m     26\u001b[0m     \u001b[38;5;66;03m# fdict = open(full_path + f, \"r\")\u001b[39;00m\n\u001b[0;32m     27\u001b[0m     \u001b[38;5;66;03m# dicts.extend(fdict.read().splitlines())\u001b[39;00m\n\u001b[0;32m     30\u001b[0m dicts \u001b[38;5;241m=\u001b[39m \u001b[38;5;28mlist\u001b[39m(\u001b[38;5;28mfilter\u001b[39m(\u001b[38;5;28;01mNone\u001b[39;00m, dicts))\n",
      "File \u001b[1;32mC:\\ProgramData\\anaconda3\\Lib\\encodings\\cp1252.py:23\u001b[0m, in \u001b[0;36mIncrementalDecoder.decode\u001b[1;34m(self, input, final)\u001b[0m\n\u001b[0;32m     22\u001b[0m \u001b[38;5;28;01mdef\u001b[39;00m \u001b[38;5;21mdecode\u001b[39m(\u001b[38;5;28mself\u001b[39m, \u001b[38;5;28minput\u001b[39m, final\u001b[38;5;241m=\u001b[39m\u001b[38;5;28;01mFalse\u001b[39;00m):\n\u001b[1;32m---> 23\u001b[0m     \u001b[38;5;28;01mreturn\u001b[39;00m codecs\u001b[38;5;241m.\u001b[39mcharmap_decode(\u001b[38;5;28minput\u001b[39m,\u001b[38;5;28mself\u001b[39m\u001b[38;5;241m.\u001b[39merrors,decoding_table)[\u001b[38;5;241m0\u001b[39m]\n",
      "\u001b[1;31mUnicodeDecodeError\u001b[0m: 'charmap' codec can't decode byte 0x81 in position 2: character maps to <undefined>"
     ]
    }
   ],
   "source": [
    "import nltk \n",
    "nltk.download('punkt')\n",
    "nltk.download('wordnet')\n",
    "\n",
    "from nltk.chat.util import Chat, reflections\n",
    "from lextoplus import LexToPlus\n",
    "tokenizer = LexToPlus()\n",
    "# Define pairs of patterns and responses\n",
    "pairs = [\n",
    "    [\n",
    "        r\"ฉัน ชื่อ (.*)\",\n",
    "        [\"สวัสดี %1, สบายดีมั้ย\",]\n",
    "    ],\n",
    "    [\n",
    "        r\"hi|hey|hello|สวัสดี|สบาย ดี\",\n",
    "        [\"สวัสดีเจ้า\", \"ยินดีที่ได้รู้จัก\",]\n",
    "    ],\n",
    "    [\n",
    "        r\"คุณ ชื่อ (.*)\",\n",
    "        [\"ฉันชื่อปอน\",]\n",
    "    ]\n",
    "    ,\n",
    "    [\n",
    "        r\"สถานที่ ท่องเที่ยว บาง แสน\",\n",
    "        [\"หาดบางแสน\",]\n",
    "    ],[\n",
    "        r\"ร้าน ที่ อร่อย ที่สุด ใน ม   บูรพา\",\n",
    "        [\"กะเพราบัง\",]\n",
    "    ],[\n",
    "        r\"คุณ เรียน คณะ อะไร\",\n",
    "        [\"วิทยาการคอมพิวเตอร์\",]\n",
    "    ]\n",
    "\n",
    "\n",
    "]\n",
    "# Create chatbot\n",
    "chatbot = Chat(pairs, reflections)\n",
    "\n",
    "# Start conversation\n",
    "def chat():\n",
    "    print(\"สวัสดีครับ/ค่ะ! ฉันคือแชทบอทที่คุณสร้างขึ้นนะครับ/ค่ะ พิมพ์ 'quit' เมื่อต้องการจบการสนทนาครับ/ค่ะ\")\n",
    "#     chatbot.converse()\n",
    "    while True:\n",
    "        user_input = input(\"You: \")\n",
    "        if user_input.lower() == \"quit\":\n",
    "            break\n",
    "\n",
    "        user_input = tokenizer.tokenize(user_input)\n",
    "        user_input = ' '.join(user_input)\n",
    "        response = chatbot.respond(user_input)\n",
    "\n",
    "        if response is None:\n",
    "            response = \"Don't understand!\"\n",
    "        print(\"Bot:\", response)\n",
    "\n",
    "# Run chatbot\n",
    "if __name__ == \"__main__\":\n",
    "    chat()\n"
   ]
  },
  {
   "cell_type": "code",
   "execution_count": null,
   "id": "3bd1d944",
   "metadata": {},
   "outputs": [],
   "source": [
    "pip install lextoplus"
   ]
  }
 ],
 "metadata": {
  "kernelspec": {
   "display_name": "Python 3 (ipykernel)",
   "language": "python",
   "name": "python3"
  },
  "language_info": {
   "codemirror_mode": {
    "name": "ipython",
    "version": 3
   },
   "file_extension": ".py",
   "mimetype": "text/x-python",
   "name": "python",
   "nbconvert_exporter": "python",
   "pygments_lexer": "ipython3",
   "version": "3.11.5"
  }
 },
 "nbformat": 4,
 "nbformat_minor": 5
}
